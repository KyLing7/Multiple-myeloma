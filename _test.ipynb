{
 "cells": [
  {
   "cell_type": "code",
   "execution_count": 2,
   "id": "176a0d38",
   "metadata": {},
   "outputs": [
    {
     "name": "stdout",
     "output_type": "stream",
     "text": [
      "GSE13591.csv: 158 rows, 22285 columns\n",
      "GSE235356.csv: 358 rows, 54615 columns\n",
      "GSE6477.csv: 162 rows, 22285 columns\n",
      "E-MTAB-316.csv: 72 rows, 22284 columns\n",
      "E-MTAB-317.csv: 249 rows, 54676 columns\n",
      "GSE2113.csv: 52 rows, 22285 columns\n",
      "GSE5900.csv: 78 rows, 54677 columns\n"
     ]
    }
   ],
   "source": [
    "import os\n",
    "import pandas as pd\n",
    "\n",
    "# 设置文件夹路径\n",
    "folder_path = \"csv\"\n",
    "\n",
    "# 获取所有CSV文件\n",
    "csv_files = [f for f in os.listdir(folder_path) if f.endswith(\".csv\")]\n",
    "\n",
    "# 遍历每个CSV文件并输出行列信息\n",
    "for file in csv_files:\n",
    "    file_path = os.path.join(folder_path, file)\n",
    "    df = pd.read_csv(file_path)\n",
    "    rows, cols = df.shape\n",
    "    print(f\"{file}: {rows} rows, {cols} columns\")"
   ]
  },
  {
   "cell_type": "code",
   "execution_count": null,
   "id": "982b4cda",
   "metadata": {},
   "outputs": [],
   "source": []
  },
  {
   "cell_type": "code",
   "execution_count": null,
   "id": "64925c46",
   "metadata": {},
   "outputs": [],
   "source": []
  },
  {
   "cell_type": "code",
   "execution_count": null,
   "id": "7ce13522",
   "metadata": {},
   "outputs": [],
   "source": []
  }
 ],
 "metadata": {
  "kernelspec": {
   "display_name": "3.10.13",
   "language": "python",
   "name": "python3"
  },
  "language_info": {
   "codemirror_mode": {
    "name": "ipython",
    "version": 3
   },
   "file_extension": ".py",
   "mimetype": "text/x-python",
   "name": "python",
   "nbconvert_exporter": "python",
   "pygments_lexer": "ipython3",
   "version": "3.10.13"
  }
 },
 "nbformat": 4,
 "nbformat_minor": 5
}
